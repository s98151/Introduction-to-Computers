{
  "nbformat": 4,
  "nbformat_minor": 0,
  "metadata": {
    "colab": {
      "name": "0511.ipynb",
      "provenance": [],
      "authorship_tag": "ABX9TyPZP/t6TA8rDBypIFits/s/",
      "include_colab_link": true
    },
    "kernelspec": {
      "name": "python3",
      "display_name": "Python 3"
    },
    "language_info": {
      "name": "python"
    }
  },
  "cells": [
    {
      "cell_type": "markdown",
      "metadata": {
        "id": "view-in-github",
        "colab_type": "text"
      },
      "source": [
        "<a href=\"https://colab.research.google.com/github/s98151/Introduction-to-Computers/blob/main/0511.ipynb\" target=\"_parent\"><img src=\"https://colab.research.google.com/assets/colab-badge.svg\" alt=\"Open In Colab\"/></a>"
      ]
    },
    {
      "cell_type": "code",
      "execution_count": 1,
      "metadata": {
        "colab": {
          "base_uri": "https://localhost:8080/"
        },
        "id": "RpeaqsZahFGc",
        "outputId": "21be3166-f4c6-411c-82c0-019c94d32563"
      },
      "outputs": [
        {
          "output_type": "stream",
          "name": "stdout",
          "text": [
            "test\n"
          ]
        }
      ],
      "source": [
        "print(\"test\")"
      ]
    },
    {
      "cell_type": "code",
      "source": [
        "體溫 = float(input(\"請輸入你的體溫\"))\n",
        "if 體溫>=37.5:\n",
        "  print(\"體溫過高!\")\n",
        "elif 體溫>=37 and 體溫<37.4:\n",
        "  print(\"體溫略高!\")\n",
        "elif  體溫>=34 and 體溫<36.9:\n",
        "  print(\"體溫正常!\")\n",
        "else :\n",
        "  print(\"體溫異常，請重新量測!\")\n",
        "\n",
        "    "
      ],
      "metadata": {
        "colab": {
          "base_uri": "https://localhost:8080/"
        },
        "id": "62Nso2JUhPOW",
        "outputId": "b32a07e8-c149-40d6-bb4a-291851554cc4"
      },
      "execution_count": 5,
      "outputs": [
        {
          "output_type": "stream",
          "name": "stdout",
          "text": [
            "請輸入你的體溫37.5\n",
            "體溫過高!\n"
          ]
        }
      ]
    },
    {
      "cell_type": "code",
      "source": [
        "money = int(input(\"請輸入購物金額\"))\n",
        "if (money>=10000):\n",
        "  if(money>=100000):\n",
        "    print(\"八折\",money * 0.8,end=\"元\")\n",
        "  elif(money>=50000):\n",
        "    print(\"八五折\",money * 0.85,end=\"元\")\n",
        "  elif(money>=30000):\n",
        "    print(\"九折\",money * 0.9,end=\"元\")\n",
        "  else:\n",
        "    print(\"九五折\",money * 0.95,end=\"元\")\n",
        "else:\n",
        "  print(\"沒打折\",money,end=\"元\")\n"
      ],
      "metadata": {
        "colab": {
          "base_uri": "https://localhost:8080/"
        },
        "id": "gaDkI1Jzj7S3",
        "outputId": "1b8b57a6-7531-4c0f-ac09-5f64e72644e6"
      },
      "execution_count": 14,
      "outputs": [
        {
          "output_type": "stream",
          "name": "stdout",
          "text": [
            "請輸入購物金額50000\n",
            "八五折 42500.0元"
          ]
        }
      ]
    },
    {
      "cell_type": "code",
      "source": [
        "季節 = int(input(\"請輸入月份:\"))\n",
        "if 季節>=3 and 季節<=5:\n",
        "  print(季節, end=\"月是春天!\")\n",
        "elif 季節>=6 and 季節<=8:\n",
        "  print(季節, end=\"月是夏天!\")\n",
        "elif  季節>=9 and 季節<=11:\n",
        "  print(季節, end=\"月是秋天!\")\n",
        "elif  季節>=1  and 季節<=2:\n",
        "  print(季節, end=\"月是冬天!\")\n",
        "elif  季節>=12  and 季節<=12:\n",
        "  print(季節, end=\"月是冬天!\")\n",
        "else :\n",
        "  print(\"月份不在範圍內!\")\n"
      ],
      "metadata": {
        "colab": {
          "base_uri": "https://localhost:8080/"
        },
        "id": "fpGJkYcWmjlM",
        "outputId": "953e05fa-7fb7-4d87-d2db-5a786a1f97f5"
      },
      "execution_count": 43,
      "outputs": [
        {
          "output_type": "stream",
          "name": "stdout",
          "text": [
            "請輸入月份:3\n",
            "3月是春天!"
          ]
        }
      ]
    },
    {
      "cell_type": "code",
      "source": [
        "tax = int(input(\"請輸入今年收入淨額:\"))\n",
        "if (tax>=2000000):\n",
        "  print(\"付稅金額\",tax*0.3,end=\"元\\n\")\n",
        "elif(tax>=1000000):\n",
        "  print(\"付稅金額\",tax*0.21,end=\"元\\n\")\n",
        "elif(tax>=600000):\n",
        "  print(\"付稅金額\",tax*0.13,end=\"元\\n\")\n",
        "elif(tax>=300000):\n",
        "  print(\"付稅金額\",tax*0.06,end=\"元\\n\")\n",
        "else:\n",
        "  print(\"付稅金額\",tax*0,end=\"元\\n\")\n",
        "\n",
        "\n",
        "tax = int(input(\"請輸入今年收入淨額:\"))\n",
        "if (tax>=2000000):\n",
        "  print(\"付稅金額\",tax*0.3,end=\"元\\n\")\n",
        "elif(tax>=1000000):\n",
        "  print(\"付稅金額\",tax*0.21,end=\"元\\n\")\n",
        "elif(tax>=600000):\n",
        "  print(\"付稅金額\",tax*0.13,end=\"元\\n\")\n",
        "elif(tax>=300000):\n",
        "  print(\"付稅金額\",tax*0.06,end=\"元\\n\")\n",
        "else:\n",
        "  print(\"付稅金額\",tax*0,end=\"元\\n\")"
      ],
      "metadata": {
        "colab": {
          "base_uri": "https://localhost:8080/"
        },
        "id": "UQcDmf1ws_gP",
        "outputId": "630c2fca-4d60-453a-e4e5-a33d73afe79e"
      },
      "execution_count": 52,
      "outputs": [
        {
          "output_type": "stream",
          "name": "stdout",
          "text": [
            "請輸入今年收入淨額:100000\n",
            "付稅金額 0元\n",
            "請輸入今年收入淨額:2000000\n",
            "付稅金額 600000.0元\n"
          ]
        }
      ]
    },
    {
      "cell_type": "code",
      "source": [
        "成績 = float(input(\"請輸入成績\"))\n",
        "if 成績>=90:\n",
        "  print(\"A\")\n",
        "elif 成績>=80 and 成績<90:\n",
        "  print(\"B\")\n",
        "elif  成績>=70 and 成績<80:\n",
        "  print(\"C\")\n",
        "elif  成績>=60 and 成績<70:\n",
        "  print(\"D\")\n",
        "else :\n",
        "  print(\"E\")\n",
        "成績 = float(input(\"請輸入成績\"))\n",
        "if 成績>=90:\n",
        "  print(\"A\")\n",
        "elif 成績>=80 and 成績<90:\n",
        "  print(\"B\")\n",
        "elif  成績>=70 and 成績<80:\n",
        "  print(\"C\")\n",
        "elif  成績>=60 and 成績<70:\n",
        "  print(\"D\")\n",
        "else :\n",
        "  print(\"E\")\n",
        "成績 = float(input(\"請輸入成績\"))\n",
        "if 成績>=90:\n",
        "  print(\"A\")\n",
        "elif 成績>=80 and 成績<90:\n",
        "  print(\"B\")\n",
        "elif  成績>=70 and 成績<80:\n",
        "  print(\"C\")\n",
        "elif  成績>=60 and 成績<70:\n",
        "  print(\"D\")\n",
        "else :\n",
        "  print(\"E\")"
      ],
      "metadata": {
        "colab": {
          "base_uri": "https://localhost:8080/"
        },
        "id": "dwAu_DAiwkTG",
        "outputId": "37014414-ca79-49b7-c3ea-1f67e3fce799"
      },
      "execution_count": 49,
      "outputs": [
        {
          "output_type": "stream",
          "name": "stdout",
          "text": [
            "請輸入成績90\n",
            "A\n",
            "請輸入成績80\n",
            "B\n",
            "請輸入成績50\n",
            "E\n"
          ]
        }
      ]
    },
    {
      "cell_type": "code",
      "source": [
        ""
      ],
      "metadata": {
        "id": "VGnPDcwDyfCw"
      },
      "execution_count": null,
      "outputs": []
    }
  ]
}